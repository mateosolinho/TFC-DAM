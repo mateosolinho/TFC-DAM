{
 "cells": [
  {
   "cell_type": "code",
   "execution_count": 4,
   "metadata": {},
   "outputs": [
    {
     "name": "stderr",
     "output_type": "stream",
     "text": [
      "/tmp/ipykernel_2359/323930101.py:12: DtypeWarning: Columns (5) have mixed types. Specify dtype option on import or set low_memory=False.\n"
     ]
    },
    {
     "ename": "AttributeError",
     "evalue": "module 'sklearn' has no attribute 'model_selection'",
     "output_type": "error",
     "traceback": [
      "\u001b[0;31m---------------------------------------------------------------------------\u001b[0m",
      "\u001b[0;31mAttributeError\u001b[0m                            Traceback (most recent call last)",
      "Cell \u001b[0;32mIn[4], line 14\u001b[0m\n\u001b[1;32m     10\u001b[0m pd\u001b[38;5;241m.\u001b[39moptions\u001b[38;5;241m.\u001b[39mdisplay\u001b[38;5;241m.\u001b[39mmax_columns \u001b[38;5;241m=\u001b[39m \u001b[38;5;241m500\u001b[39m\n\u001b[1;32m     12\u001b[0m tweet_data \u001b[38;5;241m=\u001b[39m pd\u001b[38;5;241m.\u001b[39mread_csv(data_location)\n\u001b[0;32m---> 14\u001b[0m train, test \u001b[38;5;241m=\u001b[39m \u001b[43msklearn\u001b[49m\u001b[38;5;241;43m.\u001b[39;49m\u001b[43mmodel_selection\u001b[49m\u001b[38;5;241m.\u001b[39mtrain_test_split(tweet_data, train_size\u001b[38;5;241m=\u001b[39m\u001b[38;5;241m0.7\u001b[39m, random_state\u001b[38;5;241m=\u001b[39m\u001b[38;5;241m0\u001b[39m)\n\u001b[1;32m     16\u001b[0m train \u001b[38;5;241m=\u001b[39m train\u001b[38;5;241m.\u001b[39mreset_index(drop\u001b[38;5;241m=\u001b[39m\u001b[38;5;28;01mTrue\u001b[39;00m)\n\u001b[1;32m     17\u001b[0m test \u001b[38;5;241m=\u001b[39m test\u001b[38;5;241m.\u001b[39mreset_index(drop\u001b[38;5;241m=\u001b[39m\u001b[38;5;28;01mTrue\u001b[39;00m)\n",
      "\u001b[0;31mAttributeError\u001b[0m: module 'sklearn' has no attribute 'model_selection'"
     ]
    }
   ],
   "source": [
    "import statsmodels.api as sm\n",
    "import pandas as pd \n",
    "import plotnine as pn\n",
    "import sklearn\n",
    "import numpy as np\n",
    "\n",
    "\n",
    "data_location = 'tweet_and_user_data.csv'\n",
    "\n",
    "pd.options.display.max_columns = 500\n",
    "\n",
    "tweet_data = pd.read_csv(data_location)\n",
    "\n",
    "train, test = sklearn.model_selection.train_test_split(tweet_data, train_size=0.7, random_state=0)\n",
    "\n",
    "train = train.reset_index(drop=True)\n",
    "test = test.reset_index(drop=True)\n",
    "\n",
    "train['video'] = train.video.astype(bool)\n",
    "\n",
    "target = 'is_popular'\n",
    "\n",
    "results = []\n",
    "renames = {0 : 'recall', 1 : 'precision', 2 : 'threshold'}\n",
    "for i in range(1, 6):\n",
    "    result = pd.DataFrame(sklearn.metrics.precision_recall_curve(test[target], test[f'predictions_{i}'])).transpose().rename(columns=renames)\n",
    "    result['prediction_number'] = str(i)\n",
    "    results.append(result)\n",
    "    \n",
    "results = pd.concat(results) \n",
    "\n",
    "results['threshold'] = results.threshold.round(3)\n",
    "\n",
    "results = results.groupby(['prediction_number', 'threshold']).head(1)\n",
    "\n",
    "results['recall_diff'] = results.groupby('prediction_number').recall.diff()\n",
    "results['precision_diff'] = results.groupby('prediction_number').precision.diff()\n",
    "\n",
    "c = (results.recall_diff >= 0)\n",
    "graph = (\n",
    "    pn.ggplot(results[c], pn.aes(x='recall', y='precision', color='prediction_number'))\n",
    "    + pn.geom_line(size=1.4)\n",
    ")\n",
    "\n",
    "graph.draw();"
   ]
  }
 ],
 "metadata": {
  "kernelspec": {
   "display_name": "Python 3",
   "language": "python",
   "name": "python3"
  },
  "language_info": {
   "codemirror_mode": {
    "name": "ipython",
    "version": 3
   },
   "file_extension": ".py",
   "mimetype": "text/x-python",
   "name": "python",
   "nbconvert_exporter": "python",
   "pygments_lexer": "ipython3",
   "version": "3.10.12"
  }
 },
 "nbformat": 4,
 "nbformat_minor": 2
}
