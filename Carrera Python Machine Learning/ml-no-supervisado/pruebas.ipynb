{
 "cells": [
  {
   "cell_type": "code",
   "execution_count": 1,
   "metadata": {},
   "outputs": [
    {
     "name": "stderr",
     "output_type": "stream",
     "text": [
      "/tmp/ipykernel_216933/1556787996.py:10: DtypeWarning: Columns (5) have mixed types. Specify dtype option on import or set low_memory=False.\n"
     ]
    }
   ],
   "source": [
    "import pandas as pd\n",
    "import plotnine as pn\n",
    "from sklearn import metrics\n",
    "from sklearn.cluster import KMeans\n",
    "\n",
    "data_location = 'tweet_and_user_data.csv'\n",
    "\n",
    "pd.options.display.max_columns = 500\n",
    "\n",
    "tweet_data = pd.read_csv(data_location)\n",
    "\n",
    "unique = ['id', 'conversation_id', 'retweet_id']\n",
    "\n",
    "avg = ['nlikes', 'nreplies', 'nretweets']\n",
    "\n",
    "gby = ['id_user', 'username_user', 'join_date', 'following', 'followers', 'likes', 'media', 'location', 'verified']\n",
    "\n",
    "agg = {col : 'nunique' if col in unique else 'mean' for col in unique + avg}\n",
    "\n",
    "user_stats = tweet_data.groupby(gby).agg(agg)\n",
    "\n",
    "potential_variables = [col for col in user_stats if user_stats[col].dtypes in [int, float, bool] and col not in ['id_user']]\n",
    "\n",
    "user_stats[potential_variables].describe()\n",
    "\n",
    "graph_data = pd.melt(user_stats[potential_variables].corr().round(2).reset_index(), 'index')\n",
    "graph = (\n",
    "    pn.ggplot(graph_data, pn.aes(x='index', y='variable', fill='value', label='value'))\n",
    "    + pn.geom_tile()\n",
    "    + pn.geom_text()\n",
    "    + pn.theme(figure_size=(8, 8), axis_text_x=pn.element_text(angle=90))\n",
    "    + pn.xlab('') + pn.ylab('')\n",
    ")\n",
    "\n",
    "graph.draw();"
   ]
  }
 ],
 "metadata": {
  "kernelspec": {
   "display_name": "Python 3",
   "language": "python",
   "name": "python3"
  },
  "language_info": {
   "codemirror_mode": {
    "name": "ipython",
    "version": 3
   },
   "file_extension": ".py",
   "mimetype": "text/x-python",
   "name": "python",
   "nbconvert_exporter": "python",
   "pygments_lexer": "ipython3",
   "version": "3.10.12"
  }
 },
 "nbformat": 4,
 "nbformat_minor": 2
}
