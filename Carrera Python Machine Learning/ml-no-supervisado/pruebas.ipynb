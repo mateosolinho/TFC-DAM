{
 "cells": [
  {
   "cell_type": "code",
   "execution_count": 5,
   "metadata": {},
   "outputs": [
    {
     "ename": "ImportError",
     "evalue": "cannot import name 'pca' from partially initialized module 'pca' (most likely due to a circular import) (/mnt/c/Users/Anubesport/Desktop/proyecto-final/Carrera Python Machine Learning/ml-no-supervisado/pca.py)",
     "output_type": "error",
     "traceback": [
      "\u001b[0;31m---------------------------------------------------------------------------\u001b[0m",
      "\u001b[0;31mImportError\u001b[0m                               Traceback (most recent call last)",
      "Cell \u001b[0;32mIn[5], line 2\u001b[0m\n\u001b[1;32m      1\u001b[0m \u001b[38;5;28;01mfrom\u001b[39;00m \u001b[38;5;21;01msklearn\u001b[39;00m \u001b[38;5;28;01mimport\u001b[39;00m preprocessing\n\u001b[0;32m----> 2\u001b[0m \u001b[38;5;28;01mfrom\u001b[39;00m \u001b[38;5;21;01mpca\u001b[39;00m \u001b[38;5;28;01mimport\u001b[39;00m pca\n\u001b[1;32m      3\u001b[0m \u001b[38;5;28;01mfrom\u001b[39;00m \u001b[38;5;21;01msklearn\u001b[39;00m \u001b[38;5;28;01mimport\u001b[39;00m preprocessing\n\u001b[1;32m      4\u001b[0m \u001b[38;5;28;01mimport\u001b[39;00m \u001b[38;5;21;01mpandas\u001b[39;00m \u001b[38;5;28;01mas\u001b[39;00m \u001b[38;5;21;01mpd\u001b[39;00m\n",
      "File \u001b[0;32m/mnt/c/Users/Anubesport/Desktop/proyecto-final/Carrera Python Machine Learning/ml-no-supervisado/pca.py:2\u001b[0m\n\u001b[1;32m      1\u001b[0m \u001b[38;5;28;01mfrom\u001b[39;00m \u001b[38;5;21;01msklearn\u001b[39;00m \u001b[38;5;28;01mimport\u001b[39;00m preprocessing\n\u001b[0;32m----> 2\u001b[0m \u001b[38;5;28;01mfrom\u001b[39;00m \u001b[38;5;21;01mpca\u001b[39;00m \u001b[38;5;28;01mimport\u001b[39;00m pca\n\u001b[1;32m      3\u001b[0m \u001b[38;5;28;01mfrom\u001b[39;00m \u001b[38;5;21;01msklearn\u001b[39;00m \u001b[38;5;28;01mimport\u001b[39;00m preprocessing\n\u001b[1;32m      4\u001b[0m \u001b[38;5;28;01mimport\u001b[39;00m \u001b[38;5;21;01mpandas\u001b[39;00m \u001b[38;5;28;01mas\u001b[39;00m \u001b[38;5;21;01mpd\u001b[39;00m\n",
      "\u001b[0;31mImportError\u001b[0m: cannot import name 'pca' from partially initialized module 'pca' (most likely due to a circular import) (/mnt/c/Users/Anubesport/Desktop/proyecto-final/Carrera Python Machine Learning/ml-no-supervisado/pca.py)"
     ]
    }
   ],
   "source": [
    "from sklearn import preprocessing\n",
    "from pca import pca\n",
    "from sklearn import preprocessing\n",
    "import pandas as pd\n",
    "\n",
    "data_location = 'tweet_and_user_data.csv'\n",
    "\n",
    "pd.options.display.max_columns = 500\n",
    "\n",
    "tweet_data = pd.read_csv(data_location)\n",
    "\n",
    "variables = ['followers', 'following', 'likes', 'media', 'num_days_created']\n",
    "\n",
    "unique = ['id', 'conversation_id', 'retweet_id']\n",
    "avg = ['nlikes', 'nreplies', 'nretweets']\n",
    "\n",
    "gby = ['id_user', 'username_user', 'join_date', 'following', 'followers', 'likes', 'media', 'location', 'verified']\n",
    "\n",
    "agg = {col : 'nunique' if col in unique else 'mean' for col in unique + avg}\n",
    "\n",
    "tweet_data['location'] = tweet_data.location.fillna('')\n",
    "\n",
    "user_stats = tweet_data.groupby(gby).agg(agg)\n",
    "\n",
    "model = pca(n_components=3)\n",
    "\n",
    "scaler = preprocessing.StandardScaler()\n",
    "\n",
    "results = model.fit_transform(scaler.fit_transform(user_stats[variables]))\n",
    "\n",
    "fig, ax = model.biplot(n_feat=6, alpha_transparency=0.1, hotellingt2=True, d3=True)\n",
    "ax.set_xlim([-5, 12])\n",
    "ax.set_ylim([-1, 12])\n",
    "ax.set_zlim([-6, 8])\n",
    "fig"
   ]
  }
 ],
 "metadata": {
  "kernelspec": {
   "display_name": "Python 3",
   "language": "python",
   "name": "python3"
  },
  "language_info": {
   "codemirror_mode": {
    "name": "ipython",
    "version": 3
   },
   "file_extension": ".py",
   "mimetype": "text/x-python",
   "name": "python",
   "nbconvert_exporter": "python",
   "pygments_lexer": "ipython3",
   "version": "3.10.12"
  }
 },
 "nbformat": 4,
 "nbformat_minor": 2
}
