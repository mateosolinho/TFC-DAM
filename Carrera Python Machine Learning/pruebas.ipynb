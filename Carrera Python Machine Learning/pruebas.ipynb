{
 "cells": [
  {
   "cell_type": "code",
   "execution_count": 3,
   "metadata": {},
   "outputs": [],
   "source": [
    "from sklearn.metrics import accuracy_score\n",
    "from sklearn.model_selection import train_test_split\n",
    "import pandas as pd\n",
    "\n",
    "data_location = 'tweet_and_user_data.csv'\n",
    "\n",
    "X_variables = ['followers', 'video']\n",
    "y_variable_class = 'nlikes'\n",
    "\n",
    "pd.options.display.max_columns = 500\n",
    "\n",
    "tweet_data = pd.read_csv(data_location, low_memory=False)\n",
    "\n",
    "train, test = train_test_split(tweet_data, train_size=0.7, random_state=0)\n",
    "\n",
    "for prediction in [col for col in test if '_clas' in col or 'log_reg' in col]:\n",
    "    if 'proba' not in prediction:\n",
    "        acc = accuracy_score(test[y_variable_class], test[prediction])\n",
    "        print(f'For {prediction} we scored {acc:.0%}')"
   ]
  }
 ],
 "metadata": {
  "kernelspec": {
   "display_name": "Python 3",
   "language": "python",
   "name": "python3"
  },
  "language_info": {
   "codemirror_mode": {
    "name": "ipython",
    "version": 3
   },
   "file_extension": ".py",
   "mimetype": "text/x-python",
   "name": "python",
   "nbconvert_exporter": "python",
   "pygments_lexer": "ipython3",
   "version": "3.10.12"
  }
 },
 "nbformat": 4,
 "nbformat_minor": 2
}
