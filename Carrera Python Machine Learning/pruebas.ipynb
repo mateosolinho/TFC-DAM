{
 "cells": [
  {
   "cell_type": "code",
   "execution_count": 5,
   "metadata": {},
   "outputs": [
    {
     "data": {
      "text/plain": [
       "array([ 2208.96109587, 14931.09346813, 12903.23640107, 12903.23640107,\n",
       "       12903.23640107, 12903.23640107, 11874.23288725,  2301.11985276,\n",
       "        4328.97691981,  2301.11985276])"
      ]
     },
     "execution_count": 5,
     "metadata": {},
     "output_type": "execute_result"
    }
   ],
   "source": [
    "from sklearn.pipeline import Pipeline\n",
    "from sklearn.linear_model import LinearRegression\n",
    "import pandas as pd\n",
    "import plotnine as pn\n",
    "\n",
    "X_variables = ['followers', 'video']\n",
    "y_variable = 'nlikes'\n",
    "\n",
    "data_location = 'tweet_and_user_data.csv'\n",
    "\n",
    "pd.options.display.max_columns = 500\n",
    "\n",
    "tweet_data = pd.read_csv(data_location, low_memory=False)\n",
    "\n",
    "linear_reg_pipeline = Pipeline (\n",
    "    [\n",
    "        ('linear_reg', LinearRegression())\n",
    "    ]\n",
    ")\n",
    "\n",
    "linear_reg_pipeline.fit(tweet_data[X_variables], tweet_data[y_variable])\n",
    "linear_reg_pipeline.predict(tweet_data[X_variables])[:10]"
   ]
  }
 ],
 "metadata": {
  "kernelspec": {
   "display_name": "Python 3",
   "language": "python",
   "name": "python3"
  },
  "language_info": {
   "codemirror_mode": {
    "name": "ipython",
    "version": 3
   },
   "file_extension": ".py",
   "mimetype": "text/x-python",
   "name": "python",
   "nbconvert_exporter": "python",
   "pygments_lexer": "ipython3",
   "version": "3.10.12"
  }
 },
 "nbformat": 4,
 "nbformat_minor": 2
}
