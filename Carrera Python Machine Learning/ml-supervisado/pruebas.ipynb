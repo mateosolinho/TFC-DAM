{
 "cells": [
  {
   "cell_type": "code",
   "execution_count": 1,
   "metadata": {},
   "outputs": [
    {
     "name": "stderr",
     "output_type": "stream",
     "text": [
      "/tmp/ipykernel_11601/749557308.py:14: DtypeWarning: Columns (5) have mixed types. Specify dtype option on import or set low_memory=False.\n",
      "/home/mateo/.local/lib/python3.10/site-packages/sklearn/model_selection/_split.py:737: UserWarning: The least populated class in y has only 1 members, which is less than n_splits=5.\n"
     ]
    },
    {
     "ename": "",
     "evalue": "",
     "output_type": "error",
     "traceback": [
      "\u001b[1;31mThe Kernel crashed while executing code in the current cell or a previous cell. \n",
      "\u001b[1;31mPlease review the code in the cell(s) to identify a possible cause of the failure. \n",
      "\u001b[1;31mClick <a href='https://aka.ms/vscodeJupyterKernelCrash'>here</a> for more info. \n",
      "\u001b[1;31mView Jupyter <a href='command:jupyter.viewOutput'>log</a> for further details."
     ]
    }
   ],
   "source": [
    "from sklearn.calibration import CalibratedClassifierCV\n",
    "from sklearn.ensemble import RandomForestClassifier\n",
    "import pandas as pd\n",
    "import plotnine as pn\n",
    "from sklearn.model_selection import train_test_split\n",
    "\n",
    "data_location = 'tweet_and_user_data.csv'\n",
    "\n",
    "X_variables = ['followers', 'retweet', 'video', 'tweets', 'likes', 'following', 'media', 'verified', 'day', 'hour']\n",
    "y_variable_class = 'nlikes'\n",
    "\n",
    "pd.options.display.max_columns = 500\n",
    "\n",
    "tweet_data = pd.read_csv(data_location)\n",
    "\n",
    "train, test = train_test_split(tweet_data, train_size=0.7, random_state=0)\n",
    "\n",
    "model_to_calibrate = RandomForestClassifier(random_state=0)\n",
    "calibrated_model = CalibratedClassifierCV(model_to_calibrate)\n",
    "calibrated_model.fit(train[X_variables], train[y_variable_class])\n",
    "test['predictions_rf_clas_proba_calibrated'] = calibrated_model.predict_proba(test[X_variables])[:,1]\n",
    "# test['predictions_rf_clas_proba_uncalibrated'] = clas_rf_model.predict_proba(test[X_variables])[:,1]\n",
    "\n",
    "graph = (\n",
    "    pn.ggplot(test) \n",
    "    + pn.geom_histogram(pn.aes(x='predictions_rf_clas_proba_uncalibrated'), fill='red', alpha=0.3)\n",
    "    + pn.geom_histogram(pn.aes(x='predictions_rf_clas_proba_calibrated'), fill='blue', alpha=0.3)\n",
    ")\n",
    "\n",
    "graph.draw();"
   ]
  }
 ],
 "metadata": {
  "kernelspec": {
   "display_name": "Python 3",
   "language": "python",
   "name": "python3"
  },
  "language_info": {
   "codemirror_mode": {
    "name": "ipython",
    "version": 3
   },
   "file_extension": ".py",
   "mimetype": "text/x-python",
   "name": "python",
   "nbconvert_exporter": "python",
   "pygments_lexer": "ipython3",
   "version": "3.10.12"
  }
 },
 "nbformat": 4,
 "nbformat_minor": 2
}
